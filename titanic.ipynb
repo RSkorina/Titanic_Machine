{
 "cells": [
  {
   "cell_type": "markdown",
   "metadata": {},
   "source": [
    "# Predicting Chance of Survival for Titanic Passangers\n",
    "<b>Given a person's...</b>\n",
    "- socioeconomic status\n",
    "- sex\n",
    "- age\n",
    "- number of sibilings & spouses\n",
    "- number of parents & children\n",
    "- ticket price\n",
    "- cabin id\n",
    "- town embarked on\n",
    "\n",
    "<b>Predict the likelihood that they died on Titanic</b>"
   ]
  },
  {
   "cell_type": "markdown",
   "metadata": {},
   "source": [
    "# Exploratory Data Analysis"
   ]
  },
  {
   "cell_type": "code",
   "execution_count": 16,
   "metadata": {},
   "outputs": [],
   "source": [
    "import pandas as pd"
   ]
  },
  {
   "cell_type": "code",
   "execution_count": 17,
   "metadata": {
    "scrolled": true
   },
   "outputs": [
    {
     "data": {
      "text/html": [
       "<div>\n",
       "<style scoped>\n",
       "    .dataframe tbody tr th:only-of-type {\n",
       "        vertical-align: middle;\n",
       "    }\n",
       "\n",
       "    .dataframe tbody tr th {\n",
       "        vertical-align: top;\n",
       "    }\n",
       "\n",
       "    .dataframe thead th {\n",
       "        text-align: right;\n",
       "    }\n",
       "</style>\n",
       "<table border=\"1\" class=\"dataframe\">\n",
       "  <thead>\n",
       "    <tr style=\"text-align: right;\">\n",
       "      <th></th>\n",
       "      <th>Survived</th>\n",
       "      <th>Pclass</th>\n",
       "      <th>Name</th>\n",
       "      <th>Sex</th>\n",
       "      <th>Age</th>\n",
       "      <th>SibSp</th>\n",
       "      <th>Parch</th>\n",
       "      <th>Ticket</th>\n",
       "      <th>Fare</th>\n",
       "      <th>Cabin</th>\n",
       "      <th>Embarked</th>\n",
       "    </tr>\n",
       "    <tr>\n",
       "      <th>PassengerId</th>\n",
       "      <th></th>\n",
       "      <th></th>\n",
       "      <th></th>\n",
       "      <th></th>\n",
       "      <th></th>\n",
       "      <th></th>\n",
       "      <th></th>\n",
       "      <th></th>\n",
       "      <th></th>\n",
       "      <th></th>\n",
       "      <th></th>\n",
       "    </tr>\n",
       "  </thead>\n",
       "  <tbody>\n",
       "    <tr>\n",
       "      <th>1</th>\n",
       "      <td>0</td>\n",
       "      <td>3</td>\n",
       "      <td>Braund, Mr. Owen Harris</td>\n",
       "      <td>male</td>\n",
       "      <td>22.0</td>\n",
       "      <td>1</td>\n",
       "      <td>0</td>\n",
       "      <td>A/5 21171</td>\n",
       "      <td>7.2500</td>\n",
       "      <td>NaN</td>\n",
       "      <td>S</td>\n",
       "    </tr>\n",
       "    <tr>\n",
       "      <th>2</th>\n",
       "      <td>1</td>\n",
       "      <td>1</td>\n",
       "      <td>Cumings, Mrs. John Bradley (Florence Briggs Th...</td>\n",
       "      <td>female</td>\n",
       "      <td>38.0</td>\n",
       "      <td>1</td>\n",
       "      <td>0</td>\n",
       "      <td>PC 17599</td>\n",
       "      <td>71.2833</td>\n",
       "      <td>C85</td>\n",
       "      <td>C</td>\n",
       "    </tr>\n",
       "    <tr>\n",
       "      <th>3</th>\n",
       "      <td>1</td>\n",
       "      <td>3</td>\n",
       "      <td>Heikkinen, Miss. Laina</td>\n",
       "      <td>female</td>\n",
       "      <td>26.0</td>\n",
       "      <td>0</td>\n",
       "      <td>0</td>\n",
       "      <td>STON/O2. 3101282</td>\n",
       "      <td>7.9250</td>\n",
       "      <td>NaN</td>\n",
       "      <td>S</td>\n",
       "    </tr>\n",
       "    <tr>\n",
       "      <th>4</th>\n",
       "      <td>1</td>\n",
       "      <td>1</td>\n",
       "      <td>Futrelle, Mrs. Jacques Heath (Lily May Peel)</td>\n",
       "      <td>female</td>\n",
       "      <td>35.0</td>\n",
       "      <td>1</td>\n",
       "      <td>0</td>\n",
       "      <td>113803</td>\n",
       "      <td>53.1000</td>\n",
       "      <td>C123</td>\n",
       "      <td>S</td>\n",
       "    </tr>\n",
       "    <tr>\n",
       "      <th>5</th>\n",
       "      <td>0</td>\n",
       "      <td>3</td>\n",
       "      <td>Allen, Mr. William Henry</td>\n",
       "      <td>male</td>\n",
       "      <td>35.0</td>\n",
       "      <td>0</td>\n",
       "      <td>0</td>\n",
       "      <td>373450</td>\n",
       "      <td>8.0500</td>\n",
       "      <td>NaN</td>\n",
       "      <td>S</td>\n",
       "    </tr>\n",
       "    <tr>\n",
       "      <th>6</th>\n",
       "      <td>0</td>\n",
       "      <td>3</td>\n",
       "      <td>Moran, Mr. James</td>\n",
       "      <td>male</td>\n",
       "      <td>NaN</td>\n",
       "      <td>0</td>\n",
       "      <td>0</td>\n",
       "      <td>330877</td>\n",
       "      <td>8.4583</td>\n",
       "      <td>NaN</td>\n",
       "      <td>Q</td>\n",
       "    </tr>\n",
       "    <tr>\n",
       "      <th>7</th>\n",
       "      <td>0</td>\n",
       "      <td>1</td>\n",
       "      <td>McCarthy, Mr. Timothy J</td>\n",
       "      <td>male</td>\n",
       "      <td>54.0</td>\n",
       "      <td>0</td>\n",
       "      <td>0</td>\n",
       "      <td>17463</td>\n",
       "      <td>51.8625</td>\n",
       "      <td>E46</td>\n",
       "      <td>S</td>\n",
       "    </tr>\n",
       "    <tr>\n",
       "      <th>8</th>\n",
       "      <td>0</td>\n",
       "      <td>3</td>\n",
       "      <td>Palsson, Master. Gosta Leonard</td>\n",
       "      <td>male</td>\n",
       "      <td>2.0</td>\n",
       "      <td>3</td>\n",
       "      <td>1</td>\n",
       "      <td>349909</td>\n",
       "      <td>21.0750</td>\n",
       "      <td>NaN</td>\n",
       "      <td>S</td>\n",
       "    </tr>\n",
       "    <tr>\n",
       "      <th>9</th>\n",
       "      <td>1</td>\n",
       "      <td>3</td>\n",
       "      <td>Johnson, Mrs. Oscar W (Elisabeth Vilhelmina Berg)</td>\n",
       "      <td>female</td>\n",
       "      <td>27.0</td>\n",
       "      <td>0</td>\n",
       "      <td>2</td>\n",
       "      <td>347742</td>\n",
       "      <td>11.1333</td>\n",
       "      <td>NaN</td>\n",
       "      <td>S</td>\n",
       "    </tr>\n",
       "    <tr>\n",
       "      <th>10</th>\n",
       "      <td>1</td>\n",
       "      <td>2</td>\n",
       "      <td>Nasser, Mrs. Nicholas (Adele Achem)</td>\n",
       "      <td>female</td>\n",
       "      <td>14.0</td>\n",
       "      <td>1</td>\n",
       "      <td>0</td>\n",
       "      <td>237736</td>\n",
       "      <td>30.0708</td>\n",
       "      <td>NaN</td>\n",
       "      <td>C</td>\n",
       "    </tr>\n",
       "  </tbody>\n",
       "</table>\n",
       "</div>"
      ],
      "text/plain": [
       "             Survived  Pclass  \\\n",
       "PassengerId                     \n",
       "1                   0       3   \n",
       "2                   1       1   \n",
       "3                   1       3   \n",
       "4                   1       1   \n",
       "5                   0       3   \n",
       "6                   0       3   \n",
       "7                   0       1   \n",
       "8                   0       3   \n",
       "9                   1       3   \n",
       "10                  1       2   \n",
       "\n",
       "                                                          Name     Sex   Age  \\\n",
       "PassengerId                                                                    \n",
       "1                                      Braund, Mr. Owen Harris    male  22.0   \n",
       "2            Cumings, Mrs. John Bradley (Florence Briggs Th...  female  38.0   \n",
       "3                                       Heikkinen, Miss. Laina  female  26.0   \n",
       "4                 Futrelle, Mrs. Jacques Heath (Lily May Peel)  female  35.0   \n",
       "5                                     Allen, Mr. William Henry    male  35.0   \n",
       "6                                             Moran, Mr. James    male   NaN   \n",
       "7                                      McCarthy, Mr. Timothy J    male  54.0   \n",
       "8                               Palsson, Master. Gosta Leonard    male   2.0   \n",
       "9            Johnson, Mrs. Oscar W (Elisabeth Vilhelmina Berg)  female  27.0   \n",
       "10                         Nasser, Mrs. Nicholas (Adele Achem)  female  14.0   \n",
       "\n",
       "             SibSp  Parch            Ticket     Fare Cabin Embarked  \n",
       "PassengerId                                                          \n",
       "1                1      0         A/5 21171   7.2500   NaN        S  \n",
       "2                1      0          PC 17599  71.2833   C85        C  \n",
       "3                0      0  STON/O2. 3101282   7.9250   NaN        S  \n",
       "4                1      0            113803  53.1000  C123        S  \n",
       "5                0      0            373450   8.0500   NaN        S  \n",
       "6                0      0            330877   8.4583   NaN        Q  \n",
       "7                0      0             17463  51.8625   E46        S  \n",
       "8                3      1            349909  21.0750   NaN        S  \n",
       "9                0      2            347742  11.1333   NaN        S  \n",
       "10               1      0            237736  30.0708   NaN        C  "
      ]
     },
     "execution_count": 17,
     "metadata": {},
     "output_type": "execute_result"
    }
   ],
   "source": [
    "df = pd.read_csv('train.csv')\n",
    "df = df.set_index('PassengerId')\n",
    "df.head(10)"
   ]
  },
  {
   "cell_type": "code",
   "execution_count": 18,
   "metadata": {},
   "outputs": [
    {
     "data": {
      "text/plain": [
       "(891, 11)"
      ]
     },
     "execution_count": 18,
     "metadata": {},
     "output_type": "execute_result"
    }
   ],
   "source": [
    "df.shape"
   ]
  },
  {
   "cell_type": "code",
   "execution_count": 19,
   "metadata": {},
   "outputs": [
    {
     "data": {
      "text/plain": [
       "Survived    891\n",
       "Pclass      891\n",
       "Name        891\n",
       "Sex         891\n",
       "Age         714\n",
       "SibSp       891\n",
       "Parch       891\n",
       "Ticket      891\n",
       "Fare        891\n",
       "Cabin       204\n",
       "Embarked    889\n",
       "dtype: int64"
      ]
     },
     "execution_count": 19,
     "metadata": {},
     "output_type": "execute_result"
    }
   ],
   "source": [
    "df.count()"
   ]
  },
  {
   "cell_type": "code",
   "execution_count": 20,
   "metadata": {},
   "outputs": [],
   "source": [
    "import matplotlib.pyplot as plt"
   ]
  },
  {
   "cell_type": "code",
   "execution_count": 78,
   "metadata": {
    "scrolled": true
   },
   "outputs": [
    {
     "data": {
      "text/plain": [
       "Text(0,0.5,'Percent Died')"
      ]
     },
     "execution_count": 78,
     "metadata": {},
     "output_type": "execute_result"
    },
    {
     "data": {
      "image/png": "[encoded data removed]",
      "text/plain": [
       "<matplotlib.figure.Figure at 0x1206e2f98>"
      ]
     },
     "metadata": {},
     "output_type": "display_data"
    }
   ],
   "source": [
    "color = ['green', 'red', 'orange']\n",
    "fig = plt.figure(figsize = (10,10))\n",
    "fig = fig.tight_layout()\n",
    "\n",
    "plt.subplot2grid((2,2), (0,0))\n",
    "plt.title(\"Survival/deaths proportion\")\n",
    "sizes = [df.loc[df['Survived'] == 1].shape[0], df.loc[df['Survived'] == 0].shape[0]]\n",
    "plt.pie(sizes, labels=['Survived', 'Died'], autopct='%1.1f%%',\n",
    "        shadow=True, startangle=90)  \n",
    "\n",
    "plt.subplot2grid((2,2), (0,1))\n",
    "plt.title(\"Chance of Death by Sex\")\n",
    "menWomen = [df.Survived[df['Sex'] == 'male'].value_counts(normalize = True)[0],\n",
    "            df.Survived[df['Sex'] == 'female'].value_counts(normalize = True)[0]]\n",
    "menWomenLable = ['men', 'women']\n",
    "plt.bar(menWomenLable, menWomen, alpha = 0.6, color = color)\n",
    "plt.ylabel('Percent Died') "
   ]
  },
  {
   "cell_type": "code",
   "execution_count": 79,
   "metadata": {},
   "outputs": [
    {
     "data": {
      "text/plain": [
       "Text(0,0.5,'Percent Died')"
      ]
     },
     "execution_count": 79,
     "metadata": {},
     "output_type": "execute_result"
    },
    {
     "data": {
      "image/png": "[encoded data removed]",
      "text/plain": [
       "<matplotlib.figure.Figure at 0x11f1980f0>"
      ]
     },
     "metadata": {},
     "output_type": "display_data"
    }
   ],
   "source": [
    "fig = plt.figure(figsize = (10,10))\n",
    "plt.subplot2grid((2,2), (0,0))\n",
    "plt.title(\"Chance of Death by Class\")\n",
    "classLevel = [df.Survived[df['Pclass'] == 1].value_counts(normalize = True)[0],\n",
    "            df.Survived[df['Pclass'] == 2].value_counts(normalize = True)[0],\n",
    "            df.Survived[df['Pclass'] == 3].value_counts(normalize = True)[0]]\n",
    "classLable = ['upper', 'middle', 'lower']\n",
    "plt.bar(classLable, classLevel, alpha = 0.6, color = color)\n",
    "plt.ylabel('Percent Died')\n",
    "\n",
    "plt.subplot2grid((2,2), (0,1))\n",
    "plt.title(\"Chance of Death by Port\")\n",
    "classLevel = [df.Survived[df['Embarked'] == 'S'].value_counts(normalize = True)[0],\n",
    "            df.Survived[df['Embarked'] == 'C'].value_counts(normalize = True)[0],\n",
    "            df.Survived[df['Embarked'] == 'Q'].value_counts(normalize = True)[0]]\n",
    "classLable = ['Southhampton', 'Cherbourg', 'Queenstown']\n",
    "plt.bar(classLable, classLevel, alpha = 0.6, color = color)\n",
    "plt.ylabel('Percent Died') "
   ]
  },
  {
   "cell_type": "code",
   "execution_count": 23,
   "metadata": {},
   "outputs": [
    {
     "data": {
      "image/png": "[encoded data removed]",
      "text/plain": [
       "<matplotlib.figure.Figure at 0x11f2d3f60>"
      ]
     },
     "metadata": {},
     "output_type": "display_data"
    },
    {
     "data": {
      "image/png": "[encoded data removed]",
      "text/plain": [
       "<matplotlib.figure.Figure at 0x1204edd30>"
      ]
     },
     "metadata": {},
     "output_type": "display_data"
    }
   ],
   "source": [
    "survived = df.loc[df['Survived'] == 1]\n",
    "survived = survived[pd.notnull(survived['Age'])]\n",
    "\n",
    "died = df.loc[df['Survived'] == 0]\n",
    "died = died[pd.notnull(died['Age'])]\n",
    "\n",
    "fig = plt.figure(figsize = (25,7))\n",
    "plt.subplot2grid((2,2), (0,0))\n",
    "plt.hist([died.Age.values, survived.Age.values], 70, stacked=True, label=[])\n",
    "plt.xlabel('Age')\n",
    "plt.ylabel('Number of people')\n",
    "plt.title('Number of deaths (blue), survivors (orange) per age')\n",
    "plt.show()\n",
    "\n",
    "fig = plt.figure(figsize = (30,7))\n",
    "plt.subplot2grid((2,2), (1,0))\n",
    "plt.hist([died.Fare.values, survived.Fare.values], 80, stacked=True, label=[], range=(0,275))\n",
    "plt.xlabel('Ticket Price')\n",
    "plt.ylabel('Number of people')\n",
    "plt.title('Number of deaths (blue), survivors (orange) per ticket price')\n",
    "plt.show()"
   ]
  },
  {
   "cell_type": "code",
   "execution_count": 24,
   "metadata": {},
   "outputs": [
    {
     "data": {
      "text/plain": [
       "Text(0.5,0,'Ticket price group')"
      ]
     },
     "execution_count": 24,
     "metadata": {},
     "output_type": "execute_result"
    },
    {
     "data": {
      "image/png": "[encoded data removed]",
      "text/plain": [
       "<matplotlib.figure.Figure at 0x120432ef0>"
      ]
     },
     "metadata": {},
     "output_type": "display_data"
    }
   ],
   "source": [
    "df['FareDiscrete'] = pd.cut(df['Fare'], 100)\n",
    "labels = sorted(list(df['FareDiscrete'].values.unique()))\n",
    "values = []\n",
    "for r in labels:\n",
    "    sub = df[df['FareDiscrete']==r]\n",
    "    values.append(sub[sub['Survived']==1].shape[0]/sub.shape[0])\n",
    "fig = plt.figure(figsize = (25,7))\n",
    "plt.title(\"Chance of Death by Ticket Price Group\")\n",
    "plt.bar(range(len(values)-6), values[:-6], alpha = 0.6)\n",
    "plt.ylabel('Percent Survived') \n",
    "plt.xlabel('Ticket price group') "
   ]
  },
  {
   "cell_type": "markdown",
   "metadata": {},
   "source": [
    "From the data analysis, we inferred that...\n",
    "\n",
    "- Chance of death is correlated to socioeconomic class\n",
    "- Men are more likely to die\n",
    "- The ages for the ranges 0-18, 18-35, 35 and above exhibited similar patterns\n",
    "- If you embarked at Southampton, then you were more likely to die\n",
    "- TODO: how did ticket price relate to chance of death?\n",
    "- TODO: # spouses/children, # children/parents "
   ]
  },
  {
   "cell_type": "markdown",
   "metadata": {},
   "source": [
    "# Feature Selection and Transformations\n",
    "- Since only 20% of datapoints has a cabin attritue, drop this column\n",
    "- We assume that name has no relationship with chance of survival -- drop this column\n",
    "- Change attribute domain for sex: {'male', 'female'} -> {0,1}\n",
    "- Use ranges of ages; make attribute discrete: (0.18], (18, 35], (35-<above>] \n",
    "- To ensure that attribute values are on the same scale, introduce a new column for each discrete value where the column value is a boolean, either 0 or 1"
   ]
  },
  {
   "cell_type": "code",
   "execution_count": 25,
   "metadata": {},
   "outputs": [],
   "source": [
    "import numpy as np"
   ]
  },
  {
   "cell_type": "markdown",
   "metadata": {},
   "source": [
    "## Feature Transformations"
   ]
  },
  {
   "cell_type": "code",
   "execution_count": 56,
   "metadata": {},
   "outputs": [],
   "source": [
    "def ageSet(row):\n",
    "    if row.Age <= 18:\n",
    "        age = 0\n",
    "    elif row.Age <= 35:\n",
    "        age = 1\n",
    "    elif row.Age <= 50:\n",
    "        age = 2\n",
    "    else:\n",
    "        age = 3\n",
    "    return age"
   ]
  },
  {
   "cell_type": "code",
   "execution_count": 57,
   "metadata": {},
   "outputs": [],
   "source": [
    "# Check if ticket is more expensive or less expensive than mean of Pclass\n",
    "def ticketPriceSet(row):\n",
    "    ticketprice = 1 if row.Fare > row.meanTicketPrice else 0\n",
    "    return ticketprice"
   ]
  },
  {
   "cell_type": "code",
   "execution_count": 58,
   "metadata": {},
   "outputs": [],
   "source": [
    "def aloneSet(row):\n",
    "    alone =  1 if (int(row.SibSp) == 0 and int(row.Parch) == 0) else 0\n",
    "    return alone"
   ]
  },
  {
   "cell_type": "code",
   "execution_count": 59,
   "metadata": {},
   "outputs": [],
   "source": [
    "def titanicClean(df, ageContinuous = False):\n",
    "    df = df.set_index('PassengerId')\n",
    "    if ageContinuous:\n",
    "        df.Age = df.Age.fillna(method='bfill')\n",
    "    else:\n",
    "        df['AgeClass'] = df.apply(ageSet, axis = 1)\n",
    "        df = df.drop(['Age'], axis=1)\n",
    "    \n",
    "    #Create alone\n",
    "    df['Alone'] = df.apply(aloneSet, axis = 1)\n",
    "\n",
    "    #find mean of fare\n",
    "    meanPrice = []\n",
    "    for i in np.unique(df['Pclass']):\n",
    "        meanPrice.append(df.Fare[df['Pclass'] == int(i)].mean(axis = 0))\n",
    "    meanPrice = [0] + meanPrice\n",
    "\n",
    "    #create column of array out of mean array\n",
    "    #need to do this b/c apply function is weird\n",
    "    tempTicketMean = []\n",
    "    for index, row in df.iterrows():\n",
    "        tempTicketMean.append(meanPrice[row.Pclass])    \n",
    "\n",
    "    #Create ticket Price Column\n",
    "    df['meanTicketPrice'] = tempTicketMean\n",
    "    df['ticketPrice'] = df.apply(ticketPriceSet, axis = 1)\n",
    "\n",
    "    df.Embarked = df.Embarked.fillna(value = 'S')\n",
    "    #Change female to int\n",
    "    df['Sex'] = df['Sex'].map({'female': 1, 'male': 0})\n",
    "\n",
    "    df['Embarked'] = df['Embarked'].map({'Q': 1, 'S': 0, 'C':2})\n",
    "    #drop uneeded columns\n",
    "    df = df.drop(['Name','SibSp', 'Parch', 'Ticket', 'Fare', 'Cabin', 'meanTicketPrice'],axis = 1)\n",
    "    df = pd.get_dummies(data=df, columns=['Pclass', 'AgeClass', 'Embarked'])\n",
    "    return df"
   ]
  },
  {
   "cell_type": "code",
   "execution_count": 70,
   "metadata": {},
   "outputs": [
    {
     "data": {
      "text/html": [
       "<div>\n",
       "<style scoped>\n",
       "    .dataframe tbody tr th:only-of-type {\n",
       "        vertical-align: middle;\n",
       "    }\n",
       "\n",
       "    .dataframe tbody tr th {\n",
       "        vertical-align: top;\n",
       "    }\n",
       "\n",
       "    .dataframe thead th {\n",
       "        text-align: right;\n",
       "    }\n",
       "</style>\n",
       "<table border=\"1\" class=\"dataframe\">\n",
       "  <thead>\n",
       "    <tr style=\"text-align: right;\">\n",
       "      <th></th>\n",
       "      <th>Survived</th>\n",
       "      <th>Sex</th>\n",
       "      <th>Alone</th>\n",
       "      <th>ticketPrice</th>\n",
       "      <th>Pclass_1</th>\n",
       "      <th>Pclass_2</th>\n",
       "      <th>Pclass_3</th>\n",
       "      <th>AgeClass_0</th>\n",
       "      <th>AgeClass_1</th>\n",
       "      <th>AgeClass_2</th>\n",
       "      <th>AgeClass_3</th>\n",
       "      <th>Embarked_0</th>\n",
       "      <th>Embarked_1</th>\n",
       "      <th>Embarked_2</th>\n",
       "    </tr>\n",
       "    <tr>\n",
       "      <th>PassengerId</th>\n",
       "      <th></th>\n",
       "      <th></th>\n",
       "      <th></th>\n",
       "      <th></th>\n",
       "      <th></th>\n",
       "      <th></th>\n",
       "      <th></th>\n",
       "      <th></th>\n",
       "      <th></th>\n",
       "      <th></th>\n",
       "      <th></th>\n",
       "      <th></th>\n",
       "      <th></th>\n",
       "      <th></th>\n",
       "    </tr>\n",
       "  </thead>\n",
       "  <tbody>\n",
       "    <tr>\n",
       "      <th>1</th>\n",
       "      <td>0</td>\n",
       "      <td>0</td>\n",
       "      <td>0</td>\n",
       "      <td>0</td>\n",
       "      <td>0</td>\n",
       "      <td>0</td>\n",
       "      <td>1</td>\n",
       "      <td>0</td>\n",
       "      <td>1</td>\n",
       "      <td>0</td>\n",
       "      <td>0</td>\n",
       "      <td>1</td>\n",
       "      <td>0</td>\n",
       "      <td>0</td>\n",
       "    </tr>\n",
       "    <tr>\n",
       "      <th>2</th>\n",
       "      <td>1</td>\n",
       "      <td>1</td>\n",
       "      <td>0</td>\n",
       "      <td>0</td>\n",
       "      <td>1</td>\n",
       "      <td>0</td>\n",
       "      <td>0</td>\n",
       "      <td>0</td>\n",
       "      <td>0</td>\n",
       "      <td>1</td>\n",
       "      <td>0</td>\n",
       "      <td>0</td>\n",
       "      <td>0</td>\n",
       "      <td>1</td>\n",
       "    </tr>\n",
       "    <tr>\n",
       "      <th>3</th>\n",
       "      <td>1</td>\n",
       "      <td>1</td>\n",
       "      <td>1</td>\n",
       "      <td>0</td>\n",
       "      <td>0</td>\n",
       "      <td>0</td>\n",
       "      <td>1</td>\n",
       "      <td>0</td>\n",
       "      <td>1</td>\n",
       "      <td>0</td>\n",
       "      <td>0</td>\n",
       "      <td>1</td>\n",
       "      <td>0</td>\n",
       "      <td>0</td>\n",
       "    </tr>\n",
       "    <tr>\n",
       "      <th>4</th>\n",
       "      <td>1</td>\n",
       "      <td>1</td>\n",
       "      <td>0</td>\n",
       "      <td>0</td>\n",
       "      <td>1</td>\n",
       "      <td>0</td>\n",
       "      <td>0</td>\n",
       "      <td>0</td>\n",
       "      <td>1</td>\n",
       "      <td>0</td>\n",
       "      <td>0</td>\n",
       "      <td>1</td>\n",
       "      <td>0</td>\n",
       "      <td>0</td>\n",
       "    </tr>\n",
       "    <tr>\n",
       "      <th>5</th>\n",
       "      <td>0</td>\n",
       "      <td>0</td>\n",
       "      <td>1</td>\n",
       "      <td>0</td>\n",
       "      <td>0</td>\n",
       "      <td>0</td>\n",
       "      <td>1</td>\n",
       "      <td>0</td>\n",
       "      <td>1</td>\n",
       "      <td>0</td>\n",
       "      <td>0</td>\n",
       "      <td>1</td>\n",
       "      <td>0</td>\n",
       "      <td>0</td>\n",
       "    </tr>\n",
       "    <tr>\n",
       "      <th>6</th>\n",
       "      <td>0</td>\n",
       "      <td>0</td>\n",
       "      <td>1</td>\n",
       "      <td>0</td>\n",
       "      <td>0</td>\n",
       "      <td>0</td>\n",
       "      <td>1</td>\n",
       "      <td>0</td>\n",
       "      <td>0</td>\n",
       "      <td>0</td>\n",
       "      <td>1</td>\n",
       "      <td>0</td>\n",
       "      <td>1</td>\n",
       "      <td>0</td>\n",
       "    </tr>\n",
       "    <tr>\n",
       "      <th>7</th>\n",
       "      <td>0</td>\n",
       "      <td>0</td>\n",
       "      <td>1</td>\n",
       "      <td>0</td>\n",
       "      <td>1</td>\n",
       "      <td>0</td>\n",
       "      <td>0</td>\n",
       "      <td>0</td>\n",
       "      <td>0</td>\n",
       "      <td>0</td>\n",
       "      <td>1</td>\n",
       "      <td>1</td>\n",
       "      <td>0</td>\n",
       "      <td>0</td>\n",
       "    </tr>\n",
       "  </tbody>\n",
       "</table>\n",
       "</div>"
      ],
      "text/plain": [
       "             Survived  Sex  Alone  ticketPrice  Pclass_1  Pclass_2  Pclass_3  \\\n",
       "PassengerId                                                                    \n",
       "1                   0    0      0            0         0         0         1   \n",
       "2                   1    1      0            0         1         0         0   \n",
       "3                   1    1      1            0         0         0         1   \n",
       "4                   1    1      0            0         1         0         0   \n",
       "5                   0    0      1            0         0         0         1   \n",
       "6                   0    0      1            0         0         0         1   \n",
       "7                   0    0      1            0         1         0         0   \n",
       "\n",
       "             AgeClass_0  AgeClass_1  AgeClass_2  AgeClass_3  Embarked_0  \\\n",
       "PassengerId                                                               \n",
       "1                     0           1           0           0           1   \n",
       "2                     0           0           1           0           0   \n",
       "3                     0           1           0           0           1   \n",
       "4                     0           1           0           0           1   \n",
       "5                     0           1           0           0           1   \n",
       "6                     0           0           0           1           0   \n",
       "7                     0           0           0           1           1   \n",
       "\n",
       "             Embarked_1  Embarked_2  \n",
       "PassengerId                          \n",
       "1                     0           0  \n",
       "2                     0           1  \n",
       "3                     0           0  \n",
       "4                     0           0  \n",
       "5                     0           0  \n",
       "6                     1           0  \n",
       "7                     0           0  "
      ]
     },
     "execution_count": 70,
     "metadata": {},
     "output_type": "execute_result"
    }
   ],
   "source": [
    "df1 = pd.read_csv('train.csv')\n",
    "df2 = pd.read_csv('test.csv')\n",
    "df3 = pd.read_csv('gender_submission.csv')\n",
    "\n",
    "df1 = titanicClean(df1, ageContinuous = False)\n",
    "df2 = titanicClean(df2, ageContinuous = False)\n",
    "df3 = df3.set_index('PassengerId')\n",
    "\n",
    "df1.head(7)"
   ]
  },
  {
   "cell_type": "code",
   "execution_count": 72,
   "metadata": {},
   "outputs": [],
   "source": [
    "def train_data(df):\n",
    "    y = df.iloc[:, 0].values\n",
    "    X = df.iloc[:, 1:].values\n",
    "    return X, y\n",
    "\n",
    "def test_data(df1, df2):\n",
    "    X = df1.values\n",
    "    y = df2.values\n",
    "    y = y.flatten()\n",
    "    return X, y\n",
    "\n",
    "X_train, y_train = train_data(df1)\n",
    "X_test, y_test = test_data(df2, df3)"
   ]
  },
  {
   "cell_type": "markdown",
   "metadata": {},
   "source": [
    "# Baseline Model"
   ]
  },
  {
   "cell_type": "code",
   "execution_count": 73,
   "metadata": {},
   "outputs": [],
   "source": [
    "# If upperclass, women, or child younger than 12, then survive, else die\n",
    "def baseLine(row):\n",
    "    if row.Pclass == 1:\n",
    "        survived = 1\n",
    "    elif row.Sex == 'female':\n",
    "        survived = 1\n",
    "    elif row.Age <= 12:\n",
    "        survived = 1\n",
    "    else:\n",
    "        survived = 0\n",
    "    return str(row.PassengerId) + \" \" + str(survived)\n",
    "\n",
    "def baselinePredict(X):\n",
    "    predict = X.apply(baseLine, axis = 1)\n",
    "    return  pd.DataFrame(predict.str.split(' ',1).tolist(),\n",
    "                         columns = ['PassengerId','Predict']).apply(pd.to_numeric)"
   ]
  },
  {
   "cell_type": "code",
   "execution_count": 74,
   "metadata": {},
   "outputs": [],
   "source": [
    "def scoreBaseline(test):\n",
    "    predict = baselinePredict(test)\n",
    "    merged = pd.merge(test,predict)\n",
    "    answers = pd.read_csv('gender_submission.csv')\n",
    "    final = pd.merge(merged, answers, on = 'PassengerId')\n",
    "    print('Baseline Predition')\n",
    "    print((final.Survived == final.Predict * 1).sum()/ merged.shape[0])"
   ]
  },
  {
   "cell_type": "code",
   "execution_count": 75,
   "metadata": {},
   "outputs": [
    {
     "name": "stdout",
     "output_type": "stream",
     "text": [
      "Baseline Predition\n",
      "0.8349282296650717\n"
     ]
    }
   ],
   "source": [
    "dfTest = pd.read_csv('test.csv')\n",
    "scoreBaseline(dfTest)"
   ]
  },
  {
   "cell_type": "markdown",
   "metadata": {},
   "source": [
    "# Predictions"
   ]
  },
  {
   "cell_type": "code",
   "execution_count": 76,
   "metadata": {},
   "outputs": [],
   "source": [
    "import sklearn\n",
    "from sklearn.tree import DecisionTreeClassifier\n",
    "from sklearn.ensemble import RandomForestClassifier\n",
    "from sklearn.linear_model import LogisticRegression\n",
    "from sklearn.svm import SVC, LinearSVC\n",
    "\n",
    "# our implementations\n",
    "from dtree import DecisionTree\n",
    "from dforest import DecisionForest"
   ]
  },
  {
   "cell_type": "code",
   "execution_count": 77,
   "metadata": {},
   "outputs": [
    {
     "name": "stdout",
     "output_type": "stream",
     "text": [
      "SVC: \t[0.792368/0.995215]\n",
      "LinearSVC: \t[0.802469/0.964115]\n",
      "LogisticRegression: \t[0.810325/0.935407]\n",
      "DecisionTreeClassifier: \t[0.820426/0.873206]\n",
      "RandomForestClassifier: \t[0.765432/0.811005]\n",
      "DecisionTree: \t[0.830527/0.885167]\n",
      "DecisionForest: \t[0.830527/0.861244]\n"
     ]
    }
   ],
   "source": [
    "clfs = [SVC(C=1.0, kernel='rbf'), \n",
    "        LinearSVC(penalty='l2', C=1.0, max_iter=1000),\n",
    "        LogisticRegression(),\n",
    "        DecisionTreeClassifier(max_depth=4, splitter='best'),\n",
    "        RandomForestClassifier(n_estimators = 3, max_depth=4),\n",
    "        DecisionTree(max_depth=4),\n",
    "        DecisionForest(n_estimators=5, bootstrap=True)]\n",
    "\n",
    "for clf in clfs:\n",
    "    clf.fit(X_train, y_train)\n",
    "    print(\"%s: \\t[%f/%f]\" % (clf.__class__.__name__, clf.score(X_train, y_train), clf.score(X_test, y_test)) )\n",
    "    if isinstance(clf, DecisionTreeClassifier):\n",
    "        sklearn.tree.export_graphviz(clf, out_file='tree.dot')"
   ]
  },
  {
   "cell_type": "code",
   "execution_count": null,
   "metadata": {},
   "outputs": [],
   "source": [
    "# rescaling made it better\n",
    "# did better for the test set (Kaggle did poor job)\n",
    "# look at more levels below?"
   ]
  }
 ],
 "metadata": {
  "kernelspec": {
   "display_name": "Python 3",
   "language": "python",
   "name": "python3"
  },
  "language_info": {
   "codemirror_mode": {
    "name": "ipython",
    "version": 3
   },
   "file_extension": ".py",
   "mimetype": "text/x-python",
   "name": "python",
   "nbconvert_exporter": "python",
   "pygments_lexer": "ipython3",
   "version": "3.6.4"
  }
 },
 "nbformat": 4,
 "nbformat_minor": 2
}
